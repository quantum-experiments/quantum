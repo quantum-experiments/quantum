{
 "cells": [
  {
   "cell_type": "markdown",
   "metadata": {},
   "source": [
    "# Basic quantum grammar\n",
    "\n",
    "A `%quantum` magic command for evaluating basic quantum circuit calculations using `numpy`. Conveniently displays vector data in dirac notation and pretty prints array values as squares and fractions where possible.\n",
    "\n",
    "## Example usage"
   ]
  },
  {
   "cell_type": "code",
   "execution_count": 1,
   "metadata": {},
   "outputs": [
    {
     "data": {
      "text/plain": [
       "|1>"
      ]
     },
     "execution_count": 1,
     "metadata": {},
     "output_type": "execute_result"
    }
   ],
   "source": [
    "import quantum\n",
    "%quantum X0 |0>"
   ]
  },
  {
   "cell_type": "markdown",
   "metadata": {},
   "source": [
    "|1>\n",
    "\n",
    "### Bell state"
   ]
  },
  {
   "cell_type": "code",
   "execution_count": 2,
   "metadata": {},
   "outputs": [
    {
     "data": {
      "text/plain": [
       "1/√2 |00> + 1/√2 |11>"
      ]
     },
     "execution_count": 2,
     "metadata": {},
     "output_type": "execute_result"
    }
   ],
   "source": [
    "%quantum CX01 H0 |00>"
   ]
  },
  {
   "cell_type": "markdown",
   "metadata": {},
   "source": [
    "1/√2 |00> + 1/√2 |11>\n",
    "\n",
    "### Multi-qubit gates"
   ]
  },
  {
   "cell_type": "code",
   "execution_count": 3,
   "metadata": {},
   "outputs": [
    {
     "data": {
      "text/plain": [
       "|101010>"
      ]
     },
     "execution_count": 3,
     "metadata": {},
     "output_type": "execute_result"
    }
   ],
   "source": [
    "# Index zero starts from left\n",
    "%quantum X0 X2 X4 |000000>"
   ]
  },
  {
   "cell_type": "markdown",
   "metadata": {},
   "source": [
    "|101010>\n",
    "\n",
    "#### Kronecker product"
   ]
  },
  {
   "cell_type": "code",
   "execution_count": 4,
   "metadata": {},
   "outputs": [
    {
     "data": {
      "text/plain": [
       "[farray([[0, 0, 0, 0, 0, 0, 0, 1],\n",
       "         [0, 0, 0, 0, 0, 0, 1, 0],\n",
       "         [0, 0, 0, 0, 0, 1, 0, 0],\n",
       "         [0, 0, 0, 0, 1, 0, 0, 0],\n",
       "         [0, 0, 0, 1, 0, 0, 0, 0],\n",
       "         [0, 0, 1, 0, 0, 0, 0, 0],\n",
       "         [0, 1, 0, 0, 0, 0, 0, 0],\n",
       "         [1, 0, 0, 0, 0, 0, 0, 0]])]"
      ]
     },
     "execution_count": 4,
     "metadata": {},
     "output_type": "execute_result"
    }
   ],
   "source": [
    "%quantum X0*X1*X2"
   ]
  },
  {
   "cell_type": "markdown",
   "metadata": {},
   "source": [
    "[farray([\\\n",
    "[0, 0, 0, 0, 0, 0, 0, 1],\\\n",
    "[0, 0, 0, 0, 0, 0, 1, 0],\\\n",
    "[0, 0, 0, 0, 0, 1, 0, 0],\\\n",
    "[0, 0, 0, 0, 1, 0, 0, 0],\\\n",
    "[0, 0, 0, 1, 0, 0, 0, 0],\\\n",
    "[0, 0, 1, 0, 0, 0, 0, 0],\\\n",
    "[0, 1, 0, 0, 0, 0, 0, 0],\\\n",
    "[1, 0, 0, 0, 0, 0, 0, 0]\\\n",
    "])]\n",
    "\n",
    "## Run examples\n",
    "\n",
    "See [notebooks/example.ipynb](notebooks/example.ipynb) for more examples.\n",
    "\n",
    "### Generate README.ipynb\n",
    "\n",
    "To generate a Jupyter notebook from this README.md file, run"
   ]
  },
  {
   "cell_type": "code",
   "execution_count": 5,
   "metadata": {},
   "outputs": [
    {
     "data": {
      "text/markdown": [
       "pip install jupytext\n",
       "jupytext README.md --to ipynb --output notebooks/README.ipynb\n"
      ],
      "text/plain": [
       "<IPython.core.display.Markdown object>"
      ]
     },
     "metadata": {},
     "output_type": "display_data"
    }
   ],
   "source": [
    "%%markdown\n",
    "pip install jupytext\n",
    "jupytext README.md --to ipynb --output notebooks/README.ipynb"
   ]
  }
 ],
 "metadata": {
  "jupytext": {
   "cell_metadata_filter": "-all"
  },
  "kernelspec": {
   "display_name": "Python 3",
   "language": "python",
   "name": "python3"
  },
  "language_info": {
   "codemirror_mode": {
    "name": "ipython",
    "version": 3
   },
   "file_extension": ".py",
   "mimetype": "text/x-python",
   "name": "python",
   "nbconvert_exporter": "python",
   "pygments_lexer": "ipython3",
   "version": "3.7.6"
  }
 },
 "nbformat": 4,
 "nbformat_minor": 4
}
